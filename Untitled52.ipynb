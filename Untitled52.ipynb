{
  "nbformat": 4,
  "nbformat_minor": 0,
  "metadata": {
    "colab": {
      "provenance": [],
      "authorship_tag": "ABX9TyPBaIkqSTXRYvL8u8SMQL/8",
      "include_colab_link": true
    },
    "kernelspec": {
      "name": "python3",
      "display_name": "Python 3"
    },
    "language_info": {
      "name": "python"
    }
  },
  "cells": [
    {
      "cell_type": "markdown",
      "metadata": {
        "id": "view-in-github",
        "colab_type": "text"
      },
      "source": [
        "<a href=\"https://colab.research.google.com/github/manujism/Option-Pricing-Using-Monte-Carlo-Simulation/blob/main/Untitled52.ipynb\" target=\"_parent\"><img src=\"https://colab.research.google.com/assets/colab-badge.svg\" alt=\"Open In Colab\"/></a>"
      ]
    },
    {
      "cell_type": "code",
      "source": [
        "import numpy as np\n",
        "\n",
        "# Parameters\n",
        "S0 = 100      # Initial stock price\n",
        "K = 110       # Strike price\n",
        "T = 1.0       # Time to maturity (1 year)\n",
        "r = 0.05      # Risk-free rate (5%)\n",
        "sigma = 0.2   # Volatility (20%)\n",
        "N = 100000    # Number of simulations\n",
        "\n",
        "# Step 1: Generate N random draws from standard normal distribution\n",
        "Z = np.random.standard_normal(N)\n",
        "\n",
        "# Step 2: Simulate asset price at maturity for each path\n",
        "ST = S0 * np.exp((r - 0.5 * sigma**2) * T + sigma * np.sqrt(T) * Z)\n",
        "\n",
        "# Step 3: Calculate payoff for each simulation (max(ST - K, 0))\n",
        "payoffs = np.maximum(ST - K, 0)\n",
        "\n",
        "# Step 4: Discount average payoff back to present value\n",
        "option_price = np.exp(-r * T) * np.mean(payoffs)\n",
        "\n",
        "print(f\"European Call Option Price (Monte Carlo): {option_price:.2f}\")\n"
      ],
      "metadata": {
        "colab": {
          "base_uri": "https://localhost:8080/"
        },
        "id": "qlTMHinHOLNH",
        "outputId": "48e81aa2-ab57-4448-8f04-a1d4c9354849"
      },
      "execution_count": 13,
      "outputs": [
        {
          "output_type": "stream",
          "name": "stdout",
          "text": [
            "European Call Option Price (Monte Carlo): 6.03\n"
          ]
        }
      ]
    }
  ]
}